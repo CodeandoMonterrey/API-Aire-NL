{
 "cells": [
  {
   "cell_type": "markdown",
   "metadata": {},
   "source": [
    "# Scraper Aire NL\n",
    "\n",
    "Acutalizan cada hora los datos.\n",
    "\n",
    "- IMECA: Indice Metropolitano de Calidad del Aire"
   ]
  },
  {
   "cell_type": "code",
   "execution_count": 42,
   "metadata": {
    "collapsed": true
   },
   "outputs": [],
   "source": [
    "import requests\n",
    "from bs4 import BeautifulSoup"
   ]
  },
  {
   "cell_type": "code",
   "execution_count": 43,
   "metadata": {
    "collapsed": true
   },
   "outputs": [],
   "source": [
    "url = \"http://aire.nl.gob.mx/Sima/ReporteDiarioDetallado.aspx?param1=1&St=7\"\n",
    "page = requests.get(url)\n",
    "soup = BeautifulSoup(page.content, \"html.parser\")"
   ]
  },
  {
   "cell_type": "code",
   "execution_count": 44,
   "metadata": {
    "collapsed": false
   },
   "outputs": [],
   "source": [
    "# Contaminants\n",
    "pm10 = \"\"\n",
    "o3 = \"\"\n",
    "co = \"\"\n",
    "so2 = \"\"\n",
    "no2 = \"\"\n",
    "pm2_5 = \"\"\n",
    "\n",
    "contaminants_table = soup.find(\"table\", { \"id\": \"dgContaminantes\" })\n",
    "contaminants_filter_function = (\n",
    "    lambda tag: tag.name == \"td\" and\n",
    "                tag.get(\"class\") == [\"TextoCentrado\"]\n",
    ")\n",
    "\n",
    "contaminants_rows = contaminants_table.findAll(filter_function)\n",
    "\n",
    "pm10 = contaminants_rows[1].text\n",
    "o3 = contaminants_rows[2].text\n",
    "co = contaminants_rows[3].text\n",
    "so2 = contaminants_rows[4].text\n",
    "no2 = contaminants_rows[5].text\n",
    "pm2_5 = contaminants_rows[6].text\n"
   ]
  },
  {
   "cell_type": "code",
   "execution_count": 45,
   "metadata": {
    "collapsed": false
   },
   "outputs": [
    {
     "name": "stdout",
     "output_type": "stream",
     "text": [
      "45\n",
      " \n",
      "11\n",
      "5\n",
      "5\n",
      " \n"
     ]
    }
   ],
   "source": [
    "print(pm10)\n",
    "print(o3)\n",
    "print(co)\n",
    "print(so2)\n",
    "print(no2)\n",
    "print(pm2_5)"
   ]
  }
 ],
 "metadata": {
  "kernelspec": {
   "display_name": "Python 3",
   "language": "python",
   "name": "python3"
  },
  "language_info": {
   "codemirror_mode": {
    "name": "ipython",
    "version": 3
   },
   "file_extension": ".py",
   "mimetype": "text/x-python",
   "name": "python",
   "nbconvert_exporter": "python",
   "pygments_lexer": "ipython3",
   "version": "3.5.2"
  }
 },
 "nbformat": 4,
 "nbformat_minor": 2
}
